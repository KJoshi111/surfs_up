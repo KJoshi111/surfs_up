{
 "cells": [
  {
   "cell_type": "code",
   "execution_count": 38,
   "id": "a0470bb6",
   "metadata": {},
   "outputs": [],
   "source": [
    "#Import dependencies:\n",
    "import datetime as dt\n",
    "import numpy as np\n",
    "import pandas as pd\n",
    "#Import sqlalchemy and Flask dependencies:\n",
    "import sqlalchemy\n",
    "from sqlalchemy.ext.automap import automap_base\n",
    "from sqlalchemy.orm import Session\n",
    "from sqlalchemy import create_engine, func\n",
    "from flask import Flask, jsonify"
   ]
  },
  {
   "cell_type": "code",
   "execution_count": 39,
   "id": "e421eeb2",
   "metadata": {},
   "outputs": [],
   "source": [
    "# set databese engine :\n",
    "engine = create_engine(\"sqlite:///hawaii.sqlite\")"
   ]
  },
  {
   "cell_type": "code",
   "execution_count": 40,
   "id": "925e90ec",
   "metadata": {},
   "outputs": [],
   "source": [
    "#Reflect database into classes:\n",
    "Base = automap_base()\n",
    "Base.prepare(engine, reflect=True)"
   ]
  },
  {
   "cell_type": "code",
   "execution_count": 41,
   "id": "6cb96b77",
   "metadata": {},
   "outputs": [],
   "source": [
    "#create variables for classes:\n",
    "Measurement = Base.classes.measurement\n",
    "Station = Base.classes.station"
   ]
  },
  {
   "cell_type": "code",
   "execution_count": 42,
   "id": "ce6c2f20",
   "metadata": {},
   "outputs": [],
   "source": [
    "#create session link from Python to Databse:\n",
    "session = Session(engine)"
   ]
  },
  {
   "cell_type": "code",
   "execution_count": 27,
   "id": "3db0bb48",
   "metadata": {},
   "outputs": [],
   "source": [
    "#pip install psycopg2-binary"
   ]
  },
  {
   "cell_type": "code",
   "execution_count": 26,
   "id": "09344404",
   "metadata": {},
   "outputs": [],
   "source": [
    "#pip install flask"
   ]
  },
  {
   "cell_type": "code",
   "execution_count": 33,
   "id": "3e400300",
   "metadata": {},
   "outputs": [],
   "source": [
    "#set up Flask and routes:\n",
    "#import app\n",
    "#print(\"example__name__=%s\", __name__)"
   ]
  },
  {
   "cell_type": "code",
   "execution_count": 43,
   "id": "9bfe9dcb",
   "metadata": {},
   "outputs": [],
   "source": [
    "app = Flask(__name__)"
   ]
  },
  {
   "cell_type": "code",
   "execution_count": 34,
   "id": "01ac76c4",
   "metadata": {},
   "outputs": [],
   "source": [
    "#export FLASK_APP=app.py"
   ]
  },
  {
   "cell_type": "code",
   "execution_count": 31,
   "id": "8f19b114",
   "metadata": {},
   "outputs": [],
   "source": [
    "#set FLASK_APP=app.py"
   ]
  },
  {
   "cell_type": "code",
   "execution_count": 32,
   "id": "5516a752",
   "metadata": {},
   "outputs": [],
   "source": [
    "#flask run"
   ]
  },
  {
   "cell_type": "code",
   "execution_count": 6,
   "id": "7bf2e18f",
   "metadata": {},
   "outputs": [],
   "source": [
    "#localhost:5000"
   ]
  },
  {
   "cell_type": "code",
   "execution_count": 36,
   "id": "04809b3d",
   "metadata": {},
   "outputs": [],
   "source": [
    "#import app\n",
    "\n",
    "#print(\"example __name__ = %s\", __name__)\n",
    "\n",
    "#if __name__ == \"__main__\":\n",
    "    #print(\"example is being run directly.\")\n",
    "#else:\n",
    "    #print(\"example is being imported\")"
   ]
  },
  {
   "cell_type": "code",
   "execution_count": 45,
   "id": "4c684510",
   "metadata": {},
   "outputs": [],
   "source": [
    "@app.route(\"/\")\n",
    "def welcome():\n",
    "    return(\n",
    "    '''\n",
    "    Welcome to the Climate Analysis API!\n",
    "    Available Routes:\n",
    "    /api/v1.0/precipitation\n",
    "    /api/v1.0/stations\n",
    "    /api/v1.0/tobs\n",
    "    /api/v1.0/temp/start/end\n",
    "    ''')"
   ]
  },
  {
   "cell_type": "code",
   "execution_count": 48,
   "id": "4e06a012",
   "metadata": {},
   "outputs": [],
   "source": [
    "@app.route(\"/api/v1.0/precipitation\")\n",
    "def precipitation():\n",
    "    prev_year = dt.date(2017,8,23)-dt.timedelta(days=365)\n",
    "    precipitation = session.querry(Measuremnet.date, Measurement.prcp).\\\n",
    "        filter(Measuremnet.date>=prev_year).all()\n",
    "    precip = {date:prcp for date, prcp in precipitation}\n",
    "    return jsonify(precip)"
   ]
  },
  {
   "cell_type": "code",
   "execution_count": 49,
   "id": "f884a655",
   "metadata": {},
   "outputs": [],
   "source": [
    "@app.route(\"/api/v1.0/stations\")\n",
    "def stations():\n",
    "    results = sessions.query(Station.station).all()\n",
    "    stations = list(np.ravel(results))\n",
    "    return jsonify(stations=stations)"
   ]
  },
  {
   "cell_type": "code",
   "execution_count": 51,
   "id": "d329641b",
   "metadata": {},
   "outputs": [],
   "source": [
    "@app.route(\"/api/v1.0/tobs\")\n",
    "def temp_monthly():\n",
    "    prev_year = dt.date(2017,8,23)-dt.timedelta(days=365)\n",
    "    results = session.query(Measurement.tobs).\\\n",
    "        filter(Measurement.station == 'USC00519281').\\\n",
    "        filter(Measurement.date>= prev_year).all()\n",
    "    temps = list(np.ravel(results))\n",
    "    return jsonify(temps=temps)    "
   ]
  },
  {
   "cell_type": "code",
   "execution_count": 52,
   "id": "9e583078",
   "metadata": {},
   "outputs": [],
   "source": [
    "@app.route(\"/api/v1.0/temp/<start>\")\n",
    "@app.route(\"/api/v1.0/temp/<start>/<end>\")\n",
    "def starts(start=None, end=None):\n",
    "    sel = [func.min(Measurement.tobs), fun.avg(Measurement.tobs), func.max(Measurement.tobs)]\n",
    "    if not end:\n",
    "        resutls = session.query(*sel).\\\n",
    "            filter(Measurement.date<=start).all()\n",
    "        temps = list(np.ravel(results))\n",
    "        return jsonify(temps)\n",
    "    resutls = sessions.query(*sel).\\\n",
    "        filter(Measurement.date>=start).\\\n",
    "        filter(Measurement.date<=end).all()\n",
    "    temps = list(np.ravel(results))\n",
    "    return jsonify(temps=temps)"
   ]
  },
  {
   "cell_type": "code",
   "execution_count": null,
   "id": "9e17a87b",
   "metadata": {},
   "outputs": [],
   "source": []
  }
 ],
 "metadata": {
  "kernelspec": {
   "display_name": "Python 3 (ipykernel)",
   "language": "python",
   "name": "python3"
  },
  "language_info": {
   "codemirror_mode": {
    "name": "ipython",
    "version": 3
   },
   "file_extension": ".py",
   "mimetype": "text/x-python",
   "name": "python",
   "nbconvert_exporter": "python",
   "pygments_lexer": "ipython3",
   "version": "3.7.11"
  }
 },
 "nbformat": 4,
 "nbformat_minor": 5
}
